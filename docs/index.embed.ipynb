{
 "cells": [
  {
   "cell_type": "markdown",
   "metadata": {},
   "source": [
    "# Short Paper\n",
    "\n",
    "A Short Subtitle\n",
    "\n",
    "Alice Anonymous (Some Institute of Technology)  \n",
    "Bob Security (Another University)  \n",
    "Cat Memes (Another University)  \n",
    "Derek ZoolanderJuly 16, 2024\n",
    "\n",
    "This is the abstract. Lorem ipsum dolor sit amet, consectetur adipiscing elit. Vestibulum augue turpis, dictum non malesuada a, volutpat eget velit. Nam placerat turpis purus, eu tristique ex tincidunt et. Mauris sed augue eget turpis ultrices tincidunt. Sed et mi in leo porta egestas. Aliquam non laoreet velit. Nunc quis ex vitae eros aliquet auctor nec ac libero. Duis laoreet sapien eu mi luctus, in bibendum leo molestie. Sed hendrerit diam diam, ac dapibus nisl volutpat vitae. Aliquam bibendum varius libero, eu efficitur justo rutrum at. Sed at tempus elit.\n",
    "\n",
    "Please make sure that your manuscript follows the guidelines in the Guide for Authors of the relevant journal. It is not necessary to typeset your manuscript in exactly the same way as an article, unless you are submitting to a camera-ready copy (CRC) journal.\n",
    "\n",
    "For detailed instructions regarding the elsevier article class, see <https://www.elsevier.com/authors/policies-and-guidelines/latex-instructions>\n",
    "\n",
    "# Bibliography styles\n",
    "\n",
    "Here are two sample references: @Feynman1963118 @Dirac1953888.\n",
    "\n",
    "By default, natbib will be used with the `authoryear` style, set in `classoption` variable in YAML. You can sets extra options with `natbiboptions` variable in YAML header. Example\n",
    "\n",
    "    natbiboptions: longnamesfirst,angle,semicolon\n",
    "\n",
    "There are various more specific bibliography styles available at <https://support.stmdocs.in/wiki/index.php?title=Model-wise_bibliographic_style_files>. To use one of these, add it in the header using, for example, `biblio-style: model1-num-names`.\n",
    "\n",
    "## Using CSL\n",
    "\n",
    "If `cite-method` is set to `citeproc` in `elsevier_article()`, then pandoc is used for citations instead of `natbib`. In this case, the `csl` option is used to format the references. By default, this template will provide an appropriate style, but alternative `csl` files are available from <https://www.zotero.org/styles?q=elsevier>. These can be downloaded and stored locally, or the url can be used as in the example header.\n",
    "\n",
    "# Equations\n",
    "\n",
    "Here is an equation: $$ \n",
    "  f_{X}(x) = \\left(\\frac{\\alpha}{\\beta}\\right)\n",
    "  \\left(\\frac{x}{\\beta}\\right)^{\\alpha-1}\n",
    "  e^{-\\left(\\frac{x}{\\beta}\\right)^{\\alpha}}; \n",
    "  \\alpha,\\beta,x > 0 .\n",
    "$$\n",
    "\n",
    "Inline equations work as well: $\\sum_{i = 2}^\\infty\\{\\alpha_i^\\beta\\}$\n",
    "\n",
    "# Figures and tables\n",
    "\n",
    "@fig-meaningless is generated using an R chunk."
   ],
   "id": "2efd1eef-6641-4cf3-aff2-b3bc7685737b"
  },
  {
   "cell_type": "code",
   "execution_count": null,
   "metadata": {
    "layout-align": "center"
   },
   "outputs": [
    {
     "output_type": "display_data",
     "metadata": {},
     "data": {
      "image/png": "[encoded data removed]"
     }
    }
   ],
   "source": [
    "plot(runif(25), runif(25))"
   ],
   "id": "cell-fig-meaningless"
  },
  {
   "cell_type": "markdown",
   "metadata": {},
   "source": [
    "# Tables coming from R\n",
    "\n",
    "Tables can also be generated using R chunks, as shown in @tbl-simple example."
   ],
   "id": "f444cf5d-f5d0-47ac-98e0-ea6140254103"
  },
  {
   "cell_type": "code",
   "execution_count": null,
   "metadata": {},
   "outputs": [
    {
     "output_type": "display_data",
     "metadata": {},
     "data": {
      "text/markdown": [
       "                         mpg   cyl   disp    hp\n",
       "  ------------------- ------ ----- ------ -----\n",
       "  Mazda RX4             21.0     6    160   110\n",
       "  Mazda RX4 Wag         21.0     6    160   110\n",
       "  Datsun 710            22.8     4    108    93\n",
       "  Hornet 4 Drive        21.4     6    258   110\n",
       "  Hornet Sportabout     18.7     8    360   175\n",
       "  Valiant               18.1     6    225   105\n"
      ]
     }
    }
   ],
   "source": [
    "knitr::kable(head(mtcars)[,1:4])"
   ],
   "id": "9094d012-6bf6-4ae1-9f6a-5d6daff33cd3"
  },
  {
   "cell_type": "markdown",
   "metadata": {},
   "source": [
    "# References"
   ],
   "id": "539ee3b7-04cb-47dc-9a6e-72d429272fa2"
  }
 ],
 "nbformat": 4,
 "nbformat_minor": 5,
 "metadata": {}
}

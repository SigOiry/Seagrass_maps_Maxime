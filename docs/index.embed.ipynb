{
 "cells": [
  {
   "cell_type": "markdown",
   "metadata": {},
   "source": [
    "# Seagrass mapping in two mudflats in the Auray River\n",
    "\n",
    "About a rapid evolution of seagrasses\n",
    "\n",
    "Simon Oiry [![](data:image/png;base64,iVBORw0KGgoAAAANSUhEUgAAABAAAAAQCAYAAAAf8/9hAAAAGXRFWHRTb2Z0d2FyZQBBZG9iZSBJbWFnZVJlYWR5ccllPAAAA2ZpVFh0WE1MOmNvbS5hZG9iZS54bXAAAAAAADw/eHBhY2tldCBiZWdpbj0i77u/IiBpZD0iVzVNME1wQ2VoaUh6cmVTek5UY3prYzlkIj8+IDx4OnhtcG1ldGEgeG1sbnM6eD0iYWRvYmU6bnM6bWV0YS8iIHg6eG1wdGs9IkFkb2JlIFhNUCBDb3JlIDUuMC1jMDYwIDYxLjEzNDc3NywgMjAxMC8wMi8xMi0xNzozMjowMCAgICAgICAgIj4gPHJkZjpSREYgeG1sbnM6cmRmPSJodHRwOi8vd3d3LnczLm9yZy8xOTk5LzAyLzIyLXJkZi1zeW50YXgtbnMjIj4gPHJkZjpEZXNjcmlwdGlvbiByZGY6YWJvdXQ9IiIgeG1sbnM6eG1wTU09Imh0dHA6Ly9ucy5hZG9iZS5jb20veGFwLzEuMC9tbS8iIHhtbG5zOnN0UmVmPSJodHRwOi8vbnMuYWRvYmUuY29tL3hhcC8xLjAvc1R5cGUvUmVzb3VyY2VSZWYjIiB4bWxuczp4bXA9Imh0dHA6Ly9ucy5hZG9iZS5jb20veGFwLzEuMC8iIHhtcE1NOk9yaWdpbmFsRG9jdW1lbnRJRD0ieG1wLmRpZDo1N0NEMjA4MDI1MjA2ODExOTk0QzkzNTEzRjZEQTg1NyIgeG1wTU06RG9jdW1lbnRJRD0ieG1wLmRpZDozM0NDOEJGNEZGNTcxMUUxODdBOEVCODg2RjdCQ0QwOSIgeG1wTU06SW5zdGFuY2VJRD0ieG1wLmlpZDozM0NDOEJGM0ZGNTcxMUUxODdBOEVCODg2RjdCQ0QwOSIgeG1wOkNyZWF0b3JUb29sPSJBZG9iZSBQaG90b3Nob3AgQ1M1IE1hY2ludG9zaCI+IDx4bXBNTTpEZXJpdmVkRnJvbSBzdFJlZjppbnN0YW5jZUlEPSJ4bXAuaWlkOkZDN0YxMTc0MDcyMDY4MTE5NUZFRDc5MUM2MUUwNEREIiBzdFJlZjpkb2N1bWVudElEPSJ4bXAuZGlkOjU3Q0QyMDgwMjUyMDY4MTE5OTRDOTM1MTNGNkRBODU3Ii8+IDwvcmRmOkRlc2NyaXB0aW9uPiA8L3JkZjpSREY+IDwveDp4bXBtZXRhPiA8P3hwYWNrZXQgZW5kPSJyIj8+84NovQAAAR1JREFUeNpiZEADy85ZJgCpeCB2QJM6AMQLo4yOL0AWZETSqACk1gOxAQN+cAGIA4EGPQBxmJA0nwdpjjQ8xqArmczw5tMHXAaALDgP1QMxAGqzAAPxQACqh4ER6uf5MBlkm0X4EGayMfMw/Pr7Bd2gRBZogMFBrv01hisv5jLsv9nLAPIOMnjy8RDDyYctyAbFM2EJbRQw+aAWw/LzVgx7b+cwCHKqMhjJFCBLOzAR6+lXX84xnHjYyqAo5IUizkRCwIENQQckGSDGY4TVgAPEaraQr2a4/24bSuoExcJCfAEJihXkWDj3ZAKy9EJGaEo8T0QSxkjSwORsCAuDQCD+QILmD1A9kECEZgxDaEZhICIzGcIyEyOl2RkgwAAhkmC+eAm0TAAAAABJRU5ErkJggg==)](https://orcid.org/0000-0001-7161-5246) (Nantes Université, UR 2160, F-44000 Nantes, France)  \n",
    "Bede Ffinian Rowe Davies [![](data:image/png;base64,iVBORw0KGgoAAAANSUhEUgAAABAAAAAQCAYAAAAf8/9hAAAAGXRFWHRTb2Z0d2FyZQBBZG9iZSBJbWFnZVJlYWR5ccllPAAAA2ZpVFh0WE1MOmNvbS5hZG9iZS54bXAAAAAAADw/eHBhY2tldCBiZWdpbj0i77u/IiBpZD0iVzVNME1wQ2VoaUh6cmVTek5UY3prYzlkIj8+IDx4OnhtcG1ldGEgeG1sbnM6eD0iYWRvYmU6bnM6bWV0YS8iIHg6eG1wdGs9IkFkb2JlIFhNUCBDb3JlIDUuMC1jMDYwIDYxLjEzNDc3NywgMjAxMC8wMi8xMi0xNzozMjowMCAgICAgICAgIj4gPHJkZjpSREYgeG1sbnM6cmRmPSJodHRwOi8vd3d3LnczLm9yZy8xOTk5LzAyLzIyLXJkZi1zeW50YXgtbnMjIj4gPHJkZjpEZXNjcmlwdGlvbiByZGY6YWJvdXQ9IiIgeG1sbnM6eG1wTU09Imh0dHA6Ly9ucy5hZG9iZS5jb20veGFwLzEuMC9tbS8iIHhtbG5zOnN0UmVmPSJodHRwOi8vbnMuYWRvYmUuY29tL3hhcC8xLjAvc1R5cGUvUmVzb3VyY2VSZWYjIiB4bWxuczp4bXA9Imh0dHA6Ly9ucy5hZG9iZS5jb20veGFwLzEuMC8iIHhtcE1NOk9yaWdpbmFsRG9jdW1lbnRJRD0ieG1wLmRpZDo1N0NEMjA4MDI1MjA2ODExOTk0QzkzNTEzRjZEQTg1NyIgeG1wTU06RG9jdW1lbnRJRD0ieG1wLmRpZDozM0NDOEJGNEZGNTcxMUUxODdBOEVCODg2RjdCQ0QwOSIgeG1wTU06SW5zdGFuY2VJRD0ieG1wLmlpZDozM0NDOEJGM0ZGNTcxMUUxODdBOEVCODg2RjdCQ0QwOSIgeG1wOkNyZWF0b3JUb29sPSJBZG9iZSBQaG90b3Nob3AgQ1M1IE1hY2ludG9zaCI+IDx4bXBNTTpEZXJpdmVkRnJvbSBzdFJlZjppbnN0YW5jZUlEPSJ4bXAuaWlkOkZDN0YxMTc0MDcyMDY4MTE5NUZFRDc5MUM2MUUwNEREIiBzdFJlZjpkb2N1bWVudElEPSJ4bXAuZGlkOjU3Q0QyMDgwMjUyMDY4MTE5OTRDOTM1MTNGNkRBODU3Ii8+IDwvcmRmOkRlc2NyaXB0aW9uPiA8L3JkZjpSREY+IDwveDp4bXBtZXRhPiA8P3hwYWNrZXQgZW5kPSJyIj8+84NovQAAAR1JREFUeNpiZEADy85ZJgCpeCB2QJM6AMQLo4yOL0AWZETSqACk1gOxAQN+cAGIA4EGPQBxmJA0nwdpjjQ8xqArmczw5tMHXAaALDgP1QMxAGqzAAPxQACqh4ER6uf5MBlkm0X4EGayMfMw/Pr7Bd2gRBZogMFBrv01hisv5jLsv9nLAPIOMnjy8RDDyYctyAbFM2EJbRQw+aAWw/LzVgx7b+cwCHKqMhjJFCBLOzAR6+lXX84xnHjYyqAo5IUizkRCwIENQQckGSDGY4TVgAPEaraQr2a4/24bSuoExcJCfAEJihXkWDj3ZAKy9EJGaEo8T0QSxkjSwORsCAuDQCD+QILmD1A9kECEZgxDaEZhICIzGcIyEyOl2RkgwAAhkmC+eAm0TAAAAABJRU5ErkJggg==)](https://orcid.org/0000-0001-6462-4347) (Nantes Université, UR 2160, F-44000 Nantes, France)  \n",
    "July 17, 2024\n",
    "\n",
    "Maps of seagrass in two sites in the Auray River. These two sites were studied by Maxime Daviray during his PhD. Seagrass appeared very quickly during his PhD. This work aims to describe this rapid evolution of seagrasses."
   ],
   "id": "c1ab77d0-5474-47d6-97c6-622dfbfd86dd"
  },
  {
   "cell_type": "code",
   "execution_count": null,
   "metadata": {},
   "outputs": [
    {
     "output_type": "stream",
     "name": "stderr",
     "text": [
      "── Attaching core tidyverse packages ──────────────────────── tidyverse 2.0.0 ──\n",
      "✔ dplyr     1.1.4     ✔ readr     2.1.5\n",
      "✔ forcats   1.0.0     ✔ stringr   1.5.1\n",
      "✔ ggplot2   3.5.1     ✔ tibble    3.2.1\n",
      "✔ lubridate 1.9.3     ✔ tidyr     1.3.1\n",
      "✔ purrr     1.0.2     \n",
      "── Conflicts ────────────────────────────────────────── tidyverse_conflicts() ──\n",
      "✖ dplyr::filter() masks stats::filter()\n",
      "✖ dplyr::lag()    masks stats::lag()\n",
      "ℹ Use the conflicted package (<http://conflicted.r-lib.org/>) to force all conflicts to become errors"
     ]
    },
    {
     "output_type": "stream",
     "name": "stderr",
     "text": [
      "\n",
      "Attachement du package : 'tidyterra'\n",
      "\n",
      "L'objet suivant est masqué depuis 'package:stats':\n",
      "\n",
      "    filter"
     ]
    },
    {
     "output_type": "stream",
     "name": "stderr",
     "text": [
      "terra 1.7.78\n",
      "\n",
      "Attachement du package : 'terra'\n",
      "\n",
      "L'objet suivant est masqué depuis 'package:tidyr':\n",
      "\n",
      "    extract"
     ]
    },
    {
     "output_type": "stream",
     "name": "stderr",
     "text": [
      "\n",
      "Attachement du package : 'patchwork'\n",
      "\n",
      "L'objet suivant est masqué depuis 'package:terra':\n",
      "\n",
      "    area"
     ]
    }
   ],
   "source": [
    "library(tidyverse)"
   ],
   "id": "6b5e8fc9-fdff-44f5-9463-79bcd1d05a65"
  },
  {
   "cell_type": "markdown",
   "metadata": {},
   "source": [
    "The data and scripts used for this work can be found [here](https://github.com/SigOiry/Seagrass_maps_Maxime).\n",
    "\n",
    "# Materials & Methods\n",
    "\n",
    "## Seagrass mapping using Sentinel-2\n",
    "\n",
    "To map the seagrass extent over time, the Sentinel-2 constellation has been used. Level-2 images, which are already orthorectified and atmospherically corrected using Sen2Cor, have been downloaded using the Copernicus Platform \\[@Copernicus_Sentinel\\]. One low tide, cloud-free image per year, nearest to the period of maximum seagrass biomass at this latitude, has been used. A total of 8 images have beed used (@tbl-tide-data).\n",
    "\n",
    "| Acquisition Date (UTC) | Low Tide Time (UTC) | Time Difference with Low tide |\n",
    "|:---------------------:|:------------------:|:---------------------------:|\n",
    "|    2016-11-03 11:12    |       12 : 08       |          \\+ 00 : 56           |\n",
    "|    2017-10-04 11:08    |       09 : 09       |          \\- 01 : 59           |\n",
    "|    2018-09-29 11:08    |       12 : 43       |          \\+ 01 : 35           |\n",
    "|    2019-09-14 11:06    |       10 : 28       |          \\+ 00 : 38           |\n",
    "|    2020-08-04 11:06    |       10 : 45       |          \\+ 00 : 21           |\n",
    "|    2021-10-08 11:09    |       11 : 18       |          \\- 00 : 09           |\n",
    "|    2022-08-29 11:06    |       11 : 27       |          \\- 00 : 21           |\n",
    "|    2023-09-03 11:06    |       12 : 28       |          \\- 01 : 22           |\n",
    "\n",
    "The *Intertidal Classification of Europe: Categorising Reflectance of Emerged Areas of Marine vegetation with Sentinel-2* model (ICE CREAMS, @Davies2024), a neural network classifier designed to identify and discriminate intertidal vegetation in Europe, has been applied to each Sentinel-2 image. Pixels of the Magnoliopsida class (seagrasses) have been isolated, and the Normalized Difference Vegetation Index (NDVI, @rouse1974monitoring), a commonly used remote sensing biomass proxy for vegetation, has been employed. The equation of @zoffoli2020sentinel have been used to transform NDVI values into Seagrass Percent Cover (\\[@eq-std\\]). SPC values below 20%, corresponding to low biomass pixel, with a high risk of confusion with other vegetation classes, have been remove from the rest of the analysis.\n",
    "\n",
    "$$\n",
    "SPC = 172.06 \\times NDVI - 22.18\n",
    "$$ {#eq-std}\n",
    "\n",
    "Maps and analysis have then been performed using the *Terra* package of R, in a *Tidyverse* workflow \\[@hijmans2023terra ; @wickham2017easily\\].\n",
    "\n",
    "# Results\n",
    "\n",
    "## Evolution of the spatial distribution of seagrasses over time"
   ],
   "id": "732fead0-2f86-4fb4-9196-b7f39336f74f"
  },
  {
   "cell_type": "code",
   "execution_count": null,
   "metadata": {},
   "outputs": [],
   "source": [
    "rgb_list <- list.files(\"Data/RGB/\", pattern = \".tif\", recursive = TRUE, full.names = TRUE) %>%\n",
    "  as_tibble() %>% \n",
    "  rename(path_rgb = \"value\") %>%  \n",
    "  mutate(name = gsub(\".*/\",\"\",path_rgb),                 # Extract the filename\n",
    "         year = substr(name,1,4)) %>% \n",
    "  dplyr::select(-name)\n",
    "\n",
    "img_list <- list.files(\"Data/ICECREAMS/\", pattern = \".tif\", recursive = TRUE, full.names = TRUE) %>% \n",
    "  as_tibble() %>% \n",
    "  rename(path_pred = \"value\") %>% \n",
    "  mutate(name = gsub(\".*/\",\"\",path_pred),                 # Extract the filename\n",
    "         year = substr(name,12,15),                  # Extract the year from the filename\n",
    "         date = as.POSIXct(substr(name,12,19), format = \"%Y%m%d\")) %>% \n",
    "  left_join(rgb_list, by = \"year\")\n",
    "\n",
    "\n",
    "\n",
    "# Extract and format the date\n",
    "mask <- \"Data/mask/Intertidal_mask_Auray.shp\" %>% \n",
    "  vect()\n",
    "\n",
    "for (i in 1:nrow(img_list)) {\n",
    "  \n",
    "  pred <- img_list$path_pred[i] %>% \n",
    "    rast(lyrs = 5) %>% \n",
    "    mask(mask) %>% \n",
    "    as.data.frame(xy=T) %>% \n",
    "    mutate(SPC20Unknown = case_when(SPC20Unknown < 20 ~ NA,\n",
    "                     T ~ SPC20Unknown))\n",
    "    \n",
    "  rgb <- img_list$path_rgb[i] %>% \n",
    "    rast()\n",
    "\n",
    "    for(site_i in 1:length(unique(mask$Site_Name))){\n",
    "    \n",
    "      # Extract the mask for the current site\n",
    "      ext <- mask[which(mask$Site_Name == unique(mask$Site_Name)[site_i])] %>% \n",
    "        ext()\n",
    "      \n",
    "      resize_x <- (as.numeric(ext[2])- as.numeric(ext[1]))*0.2\n",
    "      resize_y <- (as.numeric(ext[4])- as.numeric(ext[3]))*0.15\n",
    "\n",
    "    plot <- ggplot()+\n",
    "      geom_spatraster_rgb(data = rgb,\n",
    "                          max_col_value = 0.8)+\n",
    "      geom_tile(data = pred, aes(x = x, y = y, fill = SPC20Unknown), show.legend = F) +  # Use a continuous color scale and make NA values transparent\n",
    "      coord_sf(xlim = c(ext[1]-resize_x, ext[2]+resize_x),\n",
    "              ylim = c(ext[3]-resize_y, ext[4]+resize_y)) +\n",
    "      scale_fill_viridis_c(na.value = \"transparent\") \n",
    "    \n",
    "    if(site_i == 1){\n",
    "      a <- plot\n",
    "    }else{\n",
    "      b = plot +\n",
    "          scale_y_continuous(position = \"left\")\n",
    "    }\n",
    "\n",
    "      \n",
    "      \n",
    "  }\n",
    "  \n",
    "}\n",
    "\n",
    "a+b"
   ],
   "id": "e3efa737-86d0-4f12-9979-dfed077d73ed"
  }
 ],
 "nbformat": 4,
 "nbformat_minor": 5,
 "metadata": {}
}
